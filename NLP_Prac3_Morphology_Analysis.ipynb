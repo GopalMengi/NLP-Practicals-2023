{
  "nbformat": 4,
  "nbformat_minor": 0,
  "metadata": {
    "colab": {
      "name": "NLP Exp2 Morphology Analysis.ipynb",
      "provenance": []
    },
    "kernelspec": {
      "name": "python3",
      "display_name": "Python 3"
    },
    "language_info": {
      "name": "python"
    }
  },
  "cells": [
    {
      "cell_type": "code",
      "execution_count": 1,
      "metadata": {
        "colab": {
          "base_uri": "https://localhost:8080/"
        },
        "id": "t4qxLxnDk0kw",
        "outputId": "e9c5c26d-8056-48b2-e278-7621f0bafce7"
      },
      "outputs": [
        {
          "output_type": "stream",
          "name": "stdout",
          "text": [
            "What PRON\n",
            "is AUX\n",
            "the DET\n",
            "weather NOUN\n",
            "like ADP\n",
            "today NOUN\n",
            "? PUNCT\n",
            "\n",
            "\n",
            "The DET\n",
            "weather NOUN\n",
            "is AUX\n",
            "sunny ADJ\n",
            ". PUNCT\n",
            "\n",
            "\n",
            "I PRON\n",
            "went VERB\n",
            "to ADP\n",
            "the DET\n",
            "store NOUN\n",
            ", PUNCT\n",
            "but CCONJ\n",
            "they PRON\n",
            "were AUX\n",
            "closed VERB\n",
            ", PUNCT\n",
            "so CCONJ\n",
            "I PRON\n",
            "had VERB\n",
            "to PART\n",
            "go VERB\n",
            "to ADP\n",
            "another DET\n",
            "store NOUN\n",
            ". PUNCT\n"
          ]
        }
      ],
      "source": [
        "import spacy\n",
        "nlp = spacy.load(\"en_core_web_sm\")\n",
        "interrogative_sentence = \"What is the weather like today?\" # or interrogative_sentence = input(\"Enter an interrogative Sentence.\")\n",
        "declarative_sentence = \"The weather is sunny.\" # or declarative_sentence = input(\"Enter an declarative Sentence.\")\n",
        "complex_sentence = \"I went to the store, but they were closed, so I had to go to another store.\" # or complex_sentence = input(\"Enter an complex sentence using conjunction.\")\n",
        "interrogative_doc = nlp(interrogative_sentence)\n",
        "declarative_doc = nlp(declarative_sentence)\n",
        "complex_doc = nlp(complex_sentence)\n",
        "for token in interrogative_doc:\n",
        "    print(token.text, token.pos_)\n",
        "print(\"\\n\")\n",
        "for token in declarative_doc:\n",
        "    print(token.text, token.pos_)\n",
        "print(\"\\n\")\n",
        "for token in complex_doc:\n",
        "    print(token.text, token.pos_)"
      ]
    },
    {
      "cell_type": "code",
      "source": [],
      "metadata": {
        "id": "XRbFf9FCk4FR"
      },
      "execution_count": null,
      "outputs": []
    }
  ]
}