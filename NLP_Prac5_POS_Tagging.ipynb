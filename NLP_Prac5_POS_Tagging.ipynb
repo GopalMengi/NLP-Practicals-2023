{
  "nbformat": 4,
  "nbformat_minor": 0,
  "metadata": {
    "colab": {
      "provenance": []
    },
    "kernelspec": {
      "name": "python3",
      "display_name": "Python 3"
    },
    "language_info": {
      "name": "python"
    }
  },
  "cells": [
    {
      "cell_type": "code",
      "execution_count": 1,
      "metadata": {
        "colab": {
          "base_uri": "https://localhost:8080/"
        },
        "id": "wTFBLXzQMFPC",
        "outputId": "3ec53e2e-92b3-4ced-92d1-0f58f3d053dd"
      },
      "outputs": [
        {
          "output_type": "stream",
          "name": "stdout",
          "text": [
            "Requirement already satisfied: nltk in /usr/local/lib/python3.10/dist-packages (3.8.1)\n",
            "Requirement already satisfied: click in /usr/local/lib/python3.10/dist-packages (from nltk) (8.1.4)\n",
            "Requirement already satisfied: joblib in /usr/local/lib/python3.10/dist-packages (from nltk) (1.3.1)\n",
            "Requirement already satisfied: regex>=2021.8.3 in /usr/local/lib/python3.10/dist-packages (from nltk) (2022.10.31)\n",
            "Requirement already satisfied: tqdm in /usr/local/lib/python3.10/dist-packages (from nltk) (4.65.0)\n"
          ]
        },
        {
          "output_type": "stream",
          "name": "stderr",
          "text": [
            "[nltk_data] Downloading package punkt to /root/nltk_data...\n",
            "[nltk_data]   Unzipping tokenizers/punkt.zip.\n",
            "[nltk_data] Downloading package averaged_perceptron_tagger to\n",
            "[nltk_data]     /root/nltk_data...\n",
            "[nltk_data]   Unzipping taggers/averaged_perceptron_tagger.zip.\n"
          ]
        },
        {
          "output_type": "execute_result",
          "data": {
            "text/plain": [
              "True"
            ]
          },
          "metadata": {},
          "execution_count": 1
        }
      ],
      "source": [
        "!pip install nltk\n",
        "import nltk\n",
        "nltk.download('punkt')\n",
        "nltk.download('averaged_perceptron_tagger')"
      ]
    },
    {
      "cell_type": "code",
      "source": [
        "# Cleaning this string is necessary as we don't want this 'galaxy…', we want 'galaxy'\n",
        "star_wars = \"\"\"It is a period of civil war. Rebel spaceships, striking from a hidden base, have won their first victory\n",
        "against the evil Galactic Empire. During the battle, Rebel spies managed to steal secret plans to the\n",
        "Empire’s ultimate weapon, the DEATH STAR, an armored space station with enough power to destroy an entire\n",
        "planet. Pursued by the Empire’s sinister agents, Princess Leia races home aboard her starship, custodian of\n",
        "the stolen plans that can save her people and restore freedom to the galaxy…\"\"\""
      ],
      "metadata": {
        "id": "kOoQFf6OMjO3"
      },
      "execution_count": 4,
      "outputs": []
    },
    {
      "cell_type": "code",
      "source": [
        "import re\n",
        "import nltk\n",
        "from nltk import word_tokenize\n",
        "from nltk import pos_tag"
      ],
      "metadata": {
        "id": "Rcc-X47fMGLV"
      },
      "execution_count": 5,
      "outputs": []
    },
    {
      "cell_type": "code",
      "source": [
        "clean_words = re.sub(\"[^a-zA-Z]\", \" \", star_wars)\n",
        "clean_words = \" \".join(clean_words.split()) # remove multiple whitespaces\n",
        "tokens = word_tokenize(clean_words)\n",
        "pos_tokens = pos_tag(tokens)\n",
        "print(pos_tokens)"
      ],
      "metadata": {
        "colab": {
          "base_uri": "https://localhost:8080/"
        },
        "id": "hX4eA_JVMK5b",
        "outputId": "840699a7-3fbb-4533-a978-ab1294dd3275"
      },
      "execution_count": 6,
      "outputs": [
        {
          "output_type": "stream",
          "name": "stdout",
          "text": [
            "[('It', 'PRP'), ('is', 'VBZ'), ('a', 'DT'), ('period', 'NN'), ('of', 'IN'), ('civil', 'JJ'), ('war', 'NN'), ('Rebel', 'NNP'), ('spaceships', 'VBZ'), ('striking', 'VBG'), ('from', 'IN'), ('a', 'DT'), ('hidden', 'JJ'), ('base', 'NN'), ('have', 'VBP'), ('won', 'VBN'), ('their', 'PRP$'), ('first', 'JJ'), ('victory', 'NN'), ('against', 'IN'), ('the', 'DT'), ('evil', 'JJ'), ('Galactic', 'NNP'), ('Empire', 'NNP'), ('During', 'IN'), ('the', 'DT'), ('battle', 'NN'), ('Rebel', 'NNP'), ('spies', 'NNS'), ('managed', 'VBD'), ('to', 'TO'), ('steal', 'VB'), ('secret', 'JJ'), ('plans', 'NNS'), ('to', 'TO'), ('the', 'DT'), ('Empire', 'NNP'), ('s', 'NN'), ('ultimate', 'JJ'), ('weapon', 'IN'), ('the', 'DT'), ('DEATH', 'NNP'), ('STAR', 'NNP'), ('an', 'DT'), ('armored', 'JJ'), ('space', 'NN'), ('station', 'NN'), ('with', 'IN'), ('enough', 'JJ'), ('power', 'NN'), ('to', 'TO'), ('destroy', 'VB'), ('an', 'DT'), ('entire', 'JJ'), ('planet', 'NN'), ('Pursued', 'VBN'), ('by', 'IN'), ('the', 'DT'), ('Empire', 'NNP'), ('s', 'NN'), ('sinister', 'NN'), ('agents', 'NNS'), ('Princess', 'NNP'), ('Leia', 'NNP'), ('races', 'VBZ'), ('home', 'NN'), ('aboard', 'IN'), ('her', 'PRP$'), ('starship', 'JJ'), ('custodian', 'NN'), ('of', 'IN'), ('the', 'DT'), ('stolen', 'VBN'), ('plans', 'NNS'), ('that', 'WDT'), ('can', 'MD'), ('save', 'VB'), ('her', 'PRP$'), ('people', 'NNS'), ('and', 'CC'), ('restore', 'NN'), ('freedom', 'NN'), ('to', 'TO'), ('the', 'DT'), ('galaxy', 'NN')]\n"
          ]
        }
      ]
    },
    {
      "cell_type": "code",
      "source": [],
      "metadata": {
        "id": "wes5GdraMNQj"
      },
      "execution_count": null,
      "outputs": []
    }
  ]
}